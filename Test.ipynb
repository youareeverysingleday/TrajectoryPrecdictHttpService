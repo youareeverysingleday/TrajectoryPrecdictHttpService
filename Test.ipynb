{
 "cells": [
  {
   "cell_type": "code",
   "execution_count": 5,
   "id": "e431e4e9",
   "metadata": {},
   "outputs": [
    {
     "data": {
      "text/plain": [
       "[0, 0, 0, 0, 1, 2, 3, 4, 5, 6]"
      ]
     },
     "execution_count": 5,
     "metadata": {},
     "output_type": "execute_result"
    }
   ],
   "source": [
    "lll = [1, 2, 3, 4, 5, 6]\n",
    "lll = [0] * (10 - len(lll)) + lll \n",
    "lll"
   ]
  },
  {
   "cell_type": "code",
   "execution_count": 6,
   "id": "a63bd4fb",
   "metadata": {},
   "outputs": [
    {
     "data": {
      "text/plain": [
       "['clientID',\n",
       " 'time',\n",
       " 'userID',\n",
       " 'nextLocation',\n",
       " 'length',\n",
       " 'loc0',\n",
       " 'loc1',\n",
       " 'loc2']"
      ]
     },
     "execution_count": 6,
     "metadata": {},
     "output_type": "execute_result"
    }
   ],
   "source": [
    "lengthThreshold = 3\n",
    "columnsName = ['clientID', 'time', 'userID', 'nextLocation', 'length']\n",
    "for i in range(lengthThreshold):\n",
    "    columnsName += ['loc{}'.format(i)]\n",
    "columnsName"
   ]
  }
 ],
 "metadata": {
  "kernelspec": {
   "display_name": "Python 3",
   "language": "python",
   "name": "python3"
  },
  "language_info": {
   "codemirror_mode": {
    "name": "ipython",
    "version": 3
   },
   "file_extension": ".py",
   "mimetype": "text/x-python",
   "name": "python",
   "nbconvert_exporter": "python",
   "pygments_lexer": "ipython3",
   "version": "3.11.9"
  }
 },
 "nbformat": 4,
 "nbformat_minor": 5
}
